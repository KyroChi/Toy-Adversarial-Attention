{
 "cells": [
  {
   "cell_type": "code",
   "execution_count": null,
   "metadata": {},
   "outputs": [],
   "source": [
    "import json\n",
    "import matplotlib.pyplot as plt\n",
    "import torch\n",
    "\n",
    "from dataset import words_dataset\n",
    "from transformer_model import TransformerModel\n",
    "from train import  TrainingConfig, eval_model"
   ]
  },
  {
   "cell_type": "code",
   "execution_count": null,
   "metadata": {},
   "outputs": [],
   "source": [
    "no_penalty_config = \"./config_no_penalty.json\"\n",
    "penalty_config = \"./config_with_penalty.json\"\n",
    "\n",
    "no_penalty_checkpoint = \"./model_no_penalty.pt\"\n",
    "penalty_checkpoint = \"./model_with_penalty.pt\"\n",
    "\n",
    "with open(no_penalty_config) as f:\n",
    "    no_penalty_config = json.load(f)\n",
    "\n",
    "with open(penalty_config) as f:\n",
    "    penalty_config = json.load(f)\n",
    "\n",
    "no_penalty_config = TrainingConfig(**no_penalty_config)\n",
    "penalty_config = TrainingConfig(**penalty_config)\n",
    "\n",
    "no_penalty_model = TransformerModel(\n",
    "    embed_dim=no_penalty_config.embed_dim\n",
    ")\n",
    "no_penalty_model.load_state_dict(torch.load(no_penalty_checkpoint))\n",
    "\n",
    "penalty_model = TransformerModel(\n",
    "    embed_dim=penalty_config.embed_dim\n",
    ")\n",
    "penalty_model.load_state_dict(torch.load(penalty_checkpoint))"
   ]
  },
  {
   "cell_type": "code",
   "execution_count": 4,
   "metadata": {},
   "outputs": [],
   "source": [
    "dataset = words_dataset()"
   ]
  },
  {
   "cell_type": "code",
   "execution_count": 11,
   "metadata": {},
   "outputs": [],
   "source": [
    "def view_attn(no_penalty_model, penalty_model, dataset, n_samples=10):\n",
    "    sample = dataset[n_samples]\n",
    "    imp_token_idx = sample[0].argmin(dim=-1)\n",
    "\n",
    "    np_out, np_attn = no_penalty_model(sample[0], return_attn=True)\n",
    "    p_out, p_attn = penalty_model(sample[0], return_attn=True)\n",
    "\n",
    "    np_attn_score = np_attn.sum(dim=1)\n",
    "    p_attn_score = p_attn.sum(dim=1)\n",
    "\n",
    "    np_predicted = np_out.argmax(dim=1)\n",
    "    p_predicted = p_out.argmax(dim=1)\n",
    "\n",
    "    fig, axs = plt.subplots(n_samples, 2, figsize=(8, 4 * n_samples))\n",
    "\n",
    "    for i in range(n_samples):\n",
    "        ax1 = axs[i, 0]\n",
    "        ax2 = axs[i, 1]\n",
    "\n",
    "        other_idxs = [j for j in range(len(np_attn_score[i, :])) if j != imp_token_idx[i]]\n",
    "\n",
    "        ax1.bar(other_idxs, np_attn_score[i, other_idxs].detach(), color='blue')\n",
    "        ax1.bar(imp_token_idx[i], np_attn_score[i, imp_token_idx].detach(), color='red')\n",
    "\n",
    "        ax2.bar(other_idxs, p_attn_score[i, other_idxs].detach(), color='blue')\n",
    "        ax2.bar(imp_token_idx[i], p_attn_score[i, imp_token_idx].detach(), color='red')\n",
    "\n",
    "        ax1.set_ylabel('Attention Score')\n",
    "        ax1.set_xlabel('Token Index')\n",
    "        ax1.set_title(f\"No Penalty Model: predicted {np_predicted[i].item()}, actual {sample[1][i].item()}\")\n",
    "        ax2.set_xlabel('Token Index')\n",
    "        ax2.set_title(f\"Penalty Model: predicted {p_predicted[i].item()}, actual {sample[1][i].item()}\")\n",
    "\n",
    "    plt.tight_layout()\n",
    "    plt.show()"
   ]
  },
  {
   "cell_type": "code",
   "execution_count": null,
   "metadata": {},
   "outputs": [],
   "source": [
    "view_attn(no_penalty_model, penalty_model, dataset)"
   ]
  }
 ],
 "metadata": {
  "kernelspec": {
   "display_name": "anyres-clip",
   "language": "python",
   "name": "python3"
  },
  "language_info": {
   "codemirror_mode": {
    "name": "ipython",
    "version": 3
   },
   "file_extension": ".py",
   "mimetype": "text/x-python",
   "name": "python",
   "nbconvert_exporter": "python",
   "pygments_lexer": "ipython3",
   "version": "3.10.16"
  }
 },
 "nbformat": 4,
 "nbformat_minor": 2
}
